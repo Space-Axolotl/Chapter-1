{
 "cells": [
  {
   "cell_type": "code",
   "execution_count": 1,
   "metadata": {},
   "outputs": [],
   "source": [
    "### -----------------------------------------------------------------------------------------------------------###\n",
    "#                                                                                                                #\n",
    "#                                     Please Read All the comments ⊂(◉‿◉)                                        #\n",
    "#                                                                                                                #\n",
    "###------------------------------------------------------------------------------------------------------------###"
   ]
  },
  {
   "cell_type": "code",
   "execution_count": 2,
   "metadata": {},
   "outputs": [],
   "source": [
    "import pandas as pd\n",
    "import matplotlib.pyplot as plt\n",
    "import numpy as np\n",
    "from sklearn.linear_model import LogisticRegression"
   ]
  },
  {
   "cell_type": "code",
   "execution_count": 3,
   "metadata": {},
   "outputs": [],
   "source": [
    "### -----------------------------------------------------------------------------------------------------------###\n",
    "#                                            Perfect Binary Data                                                 #\n",
    "###------------------------------------------------------------------------------------------------------------###"
   ]
  },
  {
   "cell_type": "code",
   "execution_count": 4,
   "metadata": {},
   "outputs": [],
   "source": [
    "# draw random independent variable values\n",
    "x = np.arange(0,150)\n",
    "# set dependent variable values\n",
    "y = np.zeros(150)\n",
    "y[:75] = np.ones(75)\n",
    "\n",
    "# draw random independent variable values\n",
    "x_test = np.arange(40,110,3)\n",
    "# set dependent variable values\n",
    "y_test = np.zeros(24)\n",
    "y_test[:12] = np.ones(12)\n",
    "\n",
    "# to see format of the data uncomment line below\n",
    "# print(x[:10],'\\n',y[:10],'\\n',x_test[:10],'\\n',y_test[:10])"
   ]
  },
  {
   "cell_type": "code",
   "execution_count": 5,
   "metadata": {},
   "outputs": [
    {
     "data": {
      "text/plain": [
       "<matplotlib.legend.Legend at 0x7f37093b9d00>"
      ]
     },
     "execution_count": 5,
     "metadata": {},
     "output_type": "execute_result"
    },
    {
     "data": {
      "image/png": "[encoded data removed]",
      "text/plain": [
       "<Figure size 504x504 with 1 Axes>"
      ]
     },
     "metadata": {
      "needs_background": "light"
     },
     "output_type": "display_data"
    }
   ],
   "source": [
    "# draw a scatter plot of the x,y and x_test,y_test\n",
    "fig = plt.figure(figsize=(7,7))\n",
    "ax = fig.add_subplot()\n",
    "\n",
    "ax.scatter(np.sort(x),y,label='training data')\n",
    "ax.scatter(np.sort(x_test),y_test,label='testing data')\n",
    "plt.legend()"
   ]
  },
  {
   "cell_type": "code",
   "execution_count": 6,
   "metadata": {},
   "outputs": [],
   "source": [
    "# transorm x to x_train for .fit (so sklearn can process it)\n",
    "x_train = x[:,np.newaxis]\n",
    "# to see x_train uncomment line below\n",
    "# print(x_train)"
   ]
  },
  {
   "cell_type": "code",
   "execution_count": 7,
   "metadata": {},
   "outputs": [],
   "source": [
    "# fit the model\n",
    "reg = LogisticRegression()\n",
    "reg.fit(x_train,y)\n",
    "\n",
    "# predict labels(like y_test) for features(x_test) \n",
    "preds = reg.predict(x_test[:,np.newaxis])"
   ]
  },
  {
   "cell_type": "code",
   "execution_count": 8,
   "metadata": {},
   "outputs": [
    {
     "data": {
      "text/plain": [
       "<matplotlib.legend.Legend at 0x7f37092b6190>"
      ]
     },
     "execution_count": 8,
     "metadata": {},
     "output_type": "execute_result"
    },
    {
     "data": {
      "image/png": "[encoded data removed]",
      "text/plain": [
       "<Figure size 504x504 with 1 Axes>"
      ]
     },
     "metadata": {
      "needs_background": "light"
     },
     "output_type": "display_data"
    }
   ],
   "source": [
    "# draw a scatter plot of the x,y and x_test,y_test and predictions (fit line)\n",
    "fig = plt.figure(figsize=(7,7))\n",
    "ax = fig.add_subplot()\n",
    "\n",
    "ax.plot(x_test,preds,label='fit',c='green')\n",
    "# ax.scatter(x,y,label='training data')\n",
    "ax.scatter(x_test,y_test,label='test data')\n",
    "\n",
    "plt.legend()"
   ]
  },
  {
   "cell_type": "code",
   "execution_count": 9,
   "metadata": {},
   "outputs": [],
   "source": [
    "### -----------------------------------------------------------------------------------------------------------###\n",
    "#                                     Binary Cluster Classification Data                                         #\n",
    "###------------------------------------------------------------------------------------------------------------###"
   ]
  },
  {
   "cell_type": "code",
   "execution_count": 10,
   "metadata": {},
   "outputs": [],
   "source": [
    "# Let's create data for 2 iris species (Setosa and Versicolor)\n",
    "setosa_petal_width = np.random.uniform(0.3,0.8,40)\n",
    "setosa_petal_length = np.random.uniform(1,2,40)\n",
    "\n",
    "versicolor_petal_width = np.random.uniform(1,1.6,40)\n",
    "versicolor_petal_length = np.random.uniform(3,5,40)\n",
    "\n",
    "# Join data about petal width and length of both Setosa and Versicolor\n",
    "x_setosa = np.concatenate((setosa_petal_width[:,np.newaxis],setosa_petal_length[:,np.newaxis]),axis=1)\n",
    "x_versicolor = np.concatenate((versicolor_petal_width[:,np.newaxis],versicolor_petal_length[:,np.newaxis]),axis=1)\n",
    "\n",
    "# Split data into train and test subsets\n",
    "X_train = np.concatenate((x_setosa[:30],x_versicolor[:30]))\n",
    "X_test = np.concatenate((x_setosa[30:],x_versicolor[30:]))\n",
    "\n",
    "# To see format of the data uncomment lines below\n",
    "# print(x_setosa,'\\n\\n', x_versicolor)\n",
    "\n",
    "# Set dependent variable values\n",
    "# Since we don't care if data is shuffled, we know that first half\n",
    "# of our data is setosa iris and the second half is versicolor iris\n",
    "# Because of that we can just set label 1 for half of the data\n",
    "# and 0 for the other half (0 - setosa, 1 - versicolor)\n",
    "y_train = np.zeros(60)\n",
    "y_train[30:] = np.ones(30)\n",
    "y_test = np.zeros(20)\n",
    "y_test[10:] = np.ones(10)\n",
    "\n",
    "# To see format of the y_train and y_test data uncomment lines below\n",
    "# print(y_test[:10], '\\n\\n', y_train[:10])"
   ]
  },
  {
   "cell_type": "code",
   "execution_count": 11,
   "metadata": {},
   "outputs": [
    {
     "data": {
      "text/plain": [
       "<matplotlib.legend.Legend at 0x7f37092ad730>"
      ]
     },
     "execution_count": 11,
     "metadata": {},
     "output_type": "execute_result"
    },
    {
     "data": {
      "image/png": "[encoded data removed]",
      "text/plain": [
       "<Figure size 504x504 with 1 Axes>"
      ]
     },
     "metadata": {
      "needs_background": "light"
     },
     "output_type": "display_data"
    }
   ],
   "source": [
    "# draw a scatter plot of: \n",
    "# Iris Setosa petal width and length\n",
    "# Iris Versicolor petal width and length\n",
    "\n",
    "fig = plt.figure(figsize=(7,7))\n",
    "ax = fig.add_subplot()\n",
    "\n",
    "ax.scatter(x_setosa[:,0],x_setosa[:,1],label='setosa',c='royalblue')\n",
    "ax.scatter(x_versicolor[:,0],x_versicolor[:,1],label='versicolor',c='dodgerblue')\n",
    "plt.xlabel('Petal Width')\n",
    "plt.ylabel('Petal Lenght')\n",
    "plt.legend()"
   ]
  },
  {
   "cell_type": "code",
   "execution_count": 12,
   "metadata": {},
   "outputs": [
    {
     "data": {
      "text/plain": [
       "LogisticRegression()"
      ]
     },
     "execution_count": 12,
     "metadata": {},
     "output_type": "execute_result"
    }
   ],
   "source": [
    "# Fit the data to a logistic regression model\n",
    "# clf stands for classifier\n",
    "clf = LogisticRegression()\n",
    "clf.fit(X_train, y_train)"
   ]
  },
  {
   "cell_type": "code",
   "execution_count": 13,
   "metadata": {},
   "outputs": [],
   "source": [
    "# Retrieve the model parameters.\n",
    "b = clf.intercept_[0]\n",
    "w1, w2 = clf.coef_.T\n",
    "# Calculate the intercept and gradient of the decision boundary.\n",
    "c = -b/w2\n",
    "m = -w1/w2\n",
    "\n",
    "# Plot the data and the classification with the decision boundary.\n",
    "xmin, xmax = 0, 1.7\n",
    "ymin, ymax = 0.7, 5.2\n",
    "xd = np.array([xmin, xmax])\n",
    "yd = m*xd + c"
   ]
  },
  {
   "cell_type": "code",
   "execution_count": 14,
   "metadata": {},
   "outputs": [
    {
     "data": {
      "text/plain": [
       "<matplotlib.legend.Legend at 0x7f3709231c70>"
      ]
     },
     "execution_count": 14,
     "metadata": {},
     "output_type": "execute_result"
    },
    {
     "data": {
      "image/png": "[encoded data removed]",
      "text/plain": [
       "<Figure size 504x504 with 1 Axes>"
      ]
     },
     "metadata": {
      "needs_background": "light"
     },
     "output_type": "display_data"
    }
   ],
   "source": [
    "# draw a scatter plot of the x_train,y_train and x_test,y_test, and plot Decision Boundary\n",
    "fig = plt.figure(figsize=(7,7))\n",
    "ax = fig.add_subplot()\n",
    "\n",
    "ax.plot(xd, yd, 'k', lw=1, ls='-')\n",
    "ax.scatter(x_setosa[:,0],x_setosa[:,1],label='setosa',c='royalblue')\n",
    "ax.scatter(x_versicolor[:,0],x_versicolor[:,1],label='versicolor',c='dodgerblue')\n",
    "ax.fill_between(xd, yd, ymin, color='royalblue', alpha=0.2)\n",
    "ax.fill_between(xd, yd, ymax, color='dodgerblue', alpha=0.2)\n",
    "plt.xlabel('Petal Width')\n",
    "plt.ylabel('Petal Lenght')\n",
    "\n",
    "plt.legend()"
   ]
  },
  {
   "cell_type": "code",
   "execution_count": 15,
   "metadata": {},
   "outputs": [],
   "source": [
    "### -----------------------------------------------------------------------------------------------------------###\n",
    "#                                Iris setosa, Iris Versicolor, Iris Virginica                                    #\n",
    "###------------------------------------------------------------------------------------------------------------###"
   ]
  },
  {
   "cell_type": "code",
   "execution_count": 16,
   "metadata": {},
   "outputs": [],
   "source": [
    "# This time we'll create data for 3 iris species (Setosa, Versicolor and Virginica)\n",
    "setosa_petal_width = np.random.uniform(0.3,0.8,40)\n",
    "setosa_petal_length = np.random.uniform(1,2,40)\n",
    "\n",
    "versicolor_petal_width = np.random.uniform(1,1.6,40)\n",
    "versicolor_petal_length = np.random.uniform(3,5,40)\n",
    "\n",
    "virginica_petal_width = np.random.uniform(1.6,2.5,40)\n",
    "virginica_petal_length =np.random.uniform(5,7,40)\n",
    "\n",
    "# Join data about petal width and length of both Setosa and Versicolor\n",
    "x_setosa = np.concatenate((setosa_petal_width[:,np.newaxis],setosa_petal_length[:,np.newaxis]),axis=1)\n",
    "x_versicolor = np.concatenate((versicolor_petal_width[:,np.newaxis],versicolor_petal_length[:,np.newaxis]),axis=1)\n",
    "x_virginica = np.concatenate((virginica_petal_width[:,np.newaxis],virginica_petal_length[:,np.newaxis]),axis=1)\n",
    "\n",
    "# Split data into train and test subsets\n",
    "X_train = np.concatenate((x_setosa[:30],x_versicolor[:30]))\n",
    "X_train = np.concatenate((X_train,x_virginica[:30]))\n",
    "\n",
    "X_test = np.concatenate((x_setosa[30:],x_versicolor[30:]))\n",
    "X_test = np.concatenate((X_test,x_virginica[30:]))\n",
    "\n",
    "# To see format of the data uncomment lines below\n",
    "# print(x_setosa[:4],'\\n\\n', x_versicolor[:4], '\\n\\n', x_virginca[:4])\n",
    "# print(X_test.shape, X_train.shape, y_test.shape, y_train.shape)\n",
    "\n",
    "# Set dependent variable values\n",
    "# Since we don't care if data is shuffled, we know that first half\n",
    "# of our data is setosa iris and the second half is versicolor iris\n",
    "# Because of that we can just set label 1 for half of the data\n",
    "# and 0 for the other half (0 - setosa, 1 - versicolor)\n",
    "y_train = np.zeros(90)\n",
    "y_train[30:] = np.ones(60)\n",
    "y_train[60:]+=1\n",
    "\n",
    "# line below shows each unique element and number of them in an array\n",
    "# output should look like: (array([0., 1., 2.]), array([30, 30, 30]))\n",
    "# print(np.unique(y_train,return_counts=True))\n",
    "# you can also use this for y_test\n",
    "\n",
    "y_test = np.zeros(30)\n",
    "y_test[10:] = np.ones(20)\n",
    "y_test[20:]+=1\n",
    "\n",
    "\n",
    "# To see format of the y_train and y_test data uncomment lines below\n",
    "# print(y_test[:10], '\\n\\n', y_train[:10])"
   ]
  },
  {
   "cell_type": "code",
   "execution_count": 17,
   "metadata": {},
   "outputs": [
    {
     "data": {
      "text/plain": [
       "<matplotlib.legend.Legend at 0x7f3709208ca0>"
      ]
     },
     "execution_count": 17,
     "metadata": {},
     "output_type": "execute_result"
    },
    {
     "data": {
      "image/png": "[encoded data removed]",
      "text/plain": [
       "<Figure size 504x504 with 1 Axes>"
      ]
     },
     "metadata": {
      "needs_background": "light"
     },
     "output_type": "display_data"
    }
   ],
   "source": [
    "# draw a scatter plot of: \n",
    "# Iris Setosa petal width and length\n",
    "# Iris Versicolor petal width and length\n",
    "# Iris Virginica petal width and length\n",
    "\n",
    "fig = plt.figure(figsize=(7,7))\n",
    "ax = fig.add_subplot()\n",
    "\n",
    "ax.scatter(x_setosa[:,0],x_setosa[:,1],label='setosa',c='royalblue')\n",
    "ax.scatter(x_versicolor[:,0],x_versicolor[:,1],label='versicolor',c='dodgerblue')\n",
    "ax.scatter(x_virginica[:,0],x_virginica[:,1],label='virginica',c='navy')\n",
    "plt.xlabel('Petal Width')\n",
    "plt.ylabel('Petal Lenght')\n",
    "plt.legend()"
   ]
  },
  {
   "cell_type": "code",
   "execution_count": 18,
   "metadata": {},
   "outputs": [
    {
     "data": {
      "text/plain": [
       "LogisticRegression()"
      ]
     },
     "execution_count": 18,
     "metadata": {},
     "output_type": "execute_result"
    }
   ],
   "source": [
    "# Fit the data to a logistic regression model\n",
    "clf = LogisticRegression()\n",
    "clf.fit(X_train, y_train)"
   ]
  },
  {
   "cell_type": "code",
   "execution_count": 19,
   "metadata": {},
   "outputs": [],
   "source": [
    "# Retrieve the model parameters.\n",
    "b = clf.intercept_[0]\n",
    "w1, w2 = clf.coef_.T\n",
    "h=0.2\n",
    "x_min, x_max = 0, 2.6\n",
    "y_min, y_max = 0, 7.1\n",
    "xx, yy = np.meshgrid(np.arange(x_min, x_max, h),np.arange(y_min, y_max, h))\n",
    "\n",
    "# Plot the decision boundary. For that, we will assign a color to each\n",
    "# point in the mesh [x_min, x_max]x[y_min, y_max].\n",
    "Z = clf.predict(np.c_[xx.ravel(), yy.ravel()])\n",
    "# Put the result into a color plot\n",
    "Z = Z.reshape(xx.shape)"
   ]
  },
  {
   "cell_type": "code",
   "execution_count": 20,
   "metadata": {},
   "outputs": [
    {
     "data": {
      "text/plain": [
       "<matplotlib.legend.Legend at 0x7f370911a9d0>"
      ]
     },
     "execution_count": 20,
     "metadata": {},
     "output_type": "execute_result"
    },
    {
     "data": {
      "image/png": "[encoded data removed]",
      "text/plain": [
       "<Figure size 504x504 with 1 Axes>"
      ]
     },
     "metadata": {
      "needs_background": "light"
     },
     "output_type": "display_data"
    }
   ],
   "source": [
    "# draw a scatter plot of: \n",
    "# Iris Setosa petal width and length\n",
    "# Iris Versicolor petal width and length\n",
    "# Iris Virginica petal width and length\n",
    "\n",
    "fig = plt.figure(figsize=(7,7))\n",
    "ax = fig.add_subplot()\n",
    "ax.contour(xx, yy, Z,1)\n",
    "ax.scatter(x_setosa[:,0],x_setosa[:,1],label='setosa',c='royalblue')\n",
    "ax.scatter(x_versicolor[:,0],x_versicolor[:,1],label='versicolor',c='dodgerblue')\n",
    "ax.scatter(x_virginica[:,0],x_virginica[:,1],label='virginica',c='navy')\n",
    "\n",
    "plt.xlabel('Petal Width')\n",
    "plt.ylabel('Petal Lenght')\n",
    "plt.legend()"
   ]
  },
  {
   "cell_type": "code",
   "execution_count": null,
   "metadata": {},
   "outputs": [],
   "source": []
  }
 ],
 "metadata": {
  "kernelspec": {
   "display_name": "Python 3",
   "language": "python",
   "name": "python3"
  },
  "language_info": {
   "codemirror_mode": {
    "name": "ipython",
    "version": 3
   },
   "file_extension": ".py",
   "mimetype": "text/x-python",
   "name": "python",
   "nbconvert_exporter": "python",
   "pygments_lexer": "ipython3",
   "version": "3.8.5"
  }
 },
 "nbformat": 4,
 "nbformat_minor": 4
}
