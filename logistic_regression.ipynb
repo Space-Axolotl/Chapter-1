{
 "cells": [
  {
   "cell_type": "code",
   "execution_count": 2,
   "metadata": {},
   "outputs": [],
   "source": [
    "### -----------------------------------------------------------------------------------------------------------###\n",
    "#                                                                                                                #\n",
    "#                                     Please Read All the comments ⊂(◉‿◉)                                        #\n",
    "#                                                                                                                #\n",
    "###------------------------------------------------------------------------------------------------------------###"
   ]
  },
  {
   "cell_type": "code",
   "execution_count": 23,
   "metadata": {},
   "outputs": [],
   "source": [
    "import pandas as pd\n",
    "import matplotlib.pyplot as plt\n",
    "import numpy as np\n",
    "from sklearn.linear_model import LogisticRegression"
   ]
  },
  {
   "cell_type": "code",
   "execution_count": 24,
   "metadata": {},
   "outputs": [],
   "source": [
    "### -----------------------------------------------------------------------------------------------------------###\n",
    "#                                            Perfect Binary Data                                                 #\n",
    "###------------------------------------------------------------------------------------------------------------###"
   ]
  },
  {
   "cell_type": "code",
   "execution_count": 25,
   "metadata": {},
   "outputs": [],
   "source": [
    "# draw random independent variable values\n",
    "x = np.arange(0,150)\n",
    "# set dependent variable values\n",
    "y = np.zeros(150)\n",
    "y[:75] = np.ones(75)\n",
    "\n",
    "# draw random independent variable values\n",
    "x_test = np.arange(40,110,3)\n",
    "# set dependent variable values\n",
    "y_test = np.zeros(24)\n",
    "y_test[:12] = np.ones(12)\n",
    "\n",
    "# to see format of the data uncomment line below\n",
    "# print(x[:10],'\\n',y[:10],'\\n',x_test[:10],'\\n',y_test[:10])"
   ]
  },
  {
   "cell_type": "code",
   "execution_count": 26,
   "metadata": {},
   "outputs": [
    {
     "data": {
      "text/plain": [
       "<matplotlib.legend.Legend at 0x7fcf4f993490>"
      ]
     },
     "execution_count": 26,
     "metadata": {},
     "output_type": "execute_result"
    },
    {
     "data": {
      "image/png": "[encoded data removed]",
      "text/plain": [
       "<Figure size 504x504 with 1 Axes>"
      ]
     },
     "metadata": {
      "needs_background": "light"
     },
     "output_type": "display_data"
    }
   ],
   "source": [
    "# draw a scatter plot of the x,y and x_test,y_test\n",
    "fig = plt.figure(figsize=(7,7))\n",
    "ax = fig.add_subplot()\n",
    "\n",
    "ax.scatter(np.sort(x),y,label='training data')\n",
    "ax.scatter(np.sort(x_test),y_test,label='testing data')\n",
    "plt.legend()"
   ]
  },
  {
   "cell_type": "code",
   "execution_count": 27,
   "metadata": {},
   "outputs": [],
   "source": [
    "# transorm x to x_train for .fit (so sklearn can process it)\n",
    "x_train = x[:,np.newaxis]\n",
    "# to see x_train uncomment line below\n",
    "# print(x_train)"
   ]
  },
  {
   "cell_type": "code",
   "execution_count": 29,
   "metadata": {},
   "outputs": [],
   "source": [
    "# fit the model\n",
    "reg = LogisticRegression()\n",
    "reg.fit(x_train,y)\n",
    "\n",
    "# predict labels(like y_test) for features(x_test) \n",
    "preds = reg.predict(x_test[:,np.newaxis])"
   ]
  },
  {
   "cell_type": "code",
   "execution_count": 30,
   "metadata": {},
   "outputs": [
    {
     "data": {
      "text/plain": [
       "<matplotlib.legend.Legend at 0x7fcf4f8c4c70>"
      ]
     },
     "execution_count": 30,
     "metadata": {},
     "output_type": "execute_result"
    },
    {
     "data": {
      "image/png": "[encoded data removed]",
      "text/plain": [
       "<Figure size 504x504 with 1 Axes>"
      ]
     },
     "metadata": {
      "needs_background": "light"
     },
     "output_type": "display_data"
    }
   ],
   "source": [
    "# draw a scatter plot of the x,y and x_test,y_test and predictions (fit line)\n",
    "fig = plt.figure(figsize=(7,7))\n",
    "ax = fig.add_subplot()\n",
    "\n",
    "ax.plot(x_test,preds,label='fit',c='green')\n",
    "# ax.scatter(x,y,label='training data')\n",
    "ax.scatter(x_test,y_test,label='test data')\n",
    "\n",
    "plt.legend()"
   ]
  },
  {
   "cell_type": "code",
   "execution_count": null,
   "metadata": {},
   "outputs": [],
   "source": []
  },
  {
   "cell_type": "code",
   "execution_count": null,
   "metadata": {},
   "outputs": [],
   "source": []
  }
 ],
 "metadata": {
  "kernelspec": {
   "display_name": "Python 3",
   "language": "python",
   "name": "python3"
  },
  "language_info": {
   "codemirror_mode": {
    "name": "ipython",
    "version": 3
   },
   "file_extension": ".py",
   "mimetype": "text/x-python",
   "name": "python",
   "nbconvert_exporter": "python",
   "pygments_lexer": "ipython3",
   "version": "3.8.5"
  }
 },
 "nbformat": 4,
 "nbformat_minor": 4
}
